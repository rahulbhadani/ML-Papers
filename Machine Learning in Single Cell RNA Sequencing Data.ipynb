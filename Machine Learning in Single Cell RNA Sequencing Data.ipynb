{
 "cells": [
  {
   "cell_type": "markdown",
   "metadata": {},
   "source": [
    "# Machine Learning in Single Cell RNA Sequencing (scRNAseq) Data"
   ]
  },
  {
   "cell_type": "markdown",
   "metadata": {},
   "source": [
    "## Problem Statements\n",
    "- Applying ML techniques to remove noises from count data\n",
    "- Pattern recognition to compare healthy cells and diseased cells\n",
    "- Trajectory inference or cell differentiation of biological processes"
   ]
  },
  {
   "cell_type": "markdown",
   "metadata": {},
   "source": [
    "## Recent Advancement in Single Cell RNA sequencing Data\n",
    "### What is sequencing ?\n",
    "- Determining the sequences of nucleotides (A, C, G, T) from DNA of a Cell.\n",
    "- Helpful for determining differences between healthy and diseased/mutated cells\n",
    "- New technique to diagnose disease and develop personalized medicines\n",
    "- Application in paleontology, fossile discovery and to trace lineage of extinct organisms\n",
    "\n",
    "## RNA Sequencing \n",
    "- We sequence RNA as central dogma says: DNA-> RNA-> Protein\n",
    "- Rather than whole nucleotide seqeunces, we are interested in genes expressed, and mRNA are used to encode proteins via genetic code\n",
    "- Initial technology: Bulk RNA Sequencing: averages out the effect of expression from different cells\n",
    "\n",
    "## Single Cell RNA Sequencing\n",
    "- Isolate single cell\n",
    "- Amplify region of interest or whole genome\n",
    "- Construct Sequencing libraries\n",
    "- Apply next gen DNA sequencing technology such as illumina and 10X"
   ]
  },
  {
   "cell_type": "markdown",
   "metadata": {},
   "source": [
    "# Applying Machine Learning to scRNA-seq Data"
   ]
  },
  {
   "cell_type": "markdown",
   "metadata": {},
   "source": [
    "- Machine learning based approaches allow cell cycle stage to be predicted from single-cell RNA-sequencing data.\n",
    "- Data imputation/denoising of sequencing data using Machine Learning\n",
    "- "
   ]
  },
  {
   "cell_type": "markdown",
   "metadata": {},
   "source": [
    "### ML to predict cell cycle stage from scRNA-seq data\n",
    "- In the context of scRNA-seq experiments, the transcriptome data itself provides informative cues about the cell cycle stage of individual cells\n",
    "- Use supervised learning to evaluate the ability of six algorithms to predict the unobserved cell cycle stage of a cell from its transcriptome profile\n",
    "- Each algorithm was trained on the same scRNA-seq dataset where the cell-cycle stage of each cell was known.\n",
    "\n",
    "![Approach](https://ars.els-cdn.com/content/image/1-s2.0-S1046202315300098-gr1.jpg)\n",
    "\n",
    "- Performance measure: 10-fold cross-validation on the training dataset and a variety of independent datasets. \n",
    "- Predictive power calculation: the F1-score (harmonic mean of recall and precision) to summarize multi-class classification\n",
    "- 6 classifiers for cell-cycle prediction\n",
    "\n",
    "#### Random Forest:\n",
    "- Trained 500 trees by minimising the entropy in the leaves of the individual randomized trees, constructed using a subset of all N features\n",
    "####Logistic regression and lasso\n",
    "- With and without L1 regression\n",
    "#### Support Vector Machines\n",
    "- with an rbf kernel with feature selection.\n",
    "- Kernel parameters were determined using a cross-validated grid search. \n",
    "#### PCA-based classification\n",
    "- The first principal component (PC) of a set of annotated cell cycle marker genes is sufficient for constructing a cell–cell covariance matrix, reflecting the cell cycle induced correlation among cells\n",
    "- Evaluated a Gaussian Naive Bayes classifier based on the first PC derived from the set of cell cycle markers\n",
    "#### Pairs\n",
    "- A classification algorithm based on the idea of the relative expression of “marker pairs”\n",
    "\n",
    "### Data\n",
    "- Combined all genes annotated to cell cycle in the Gene Ontology database (GO:0007049) along with the 600 top-ranked genes from CycleBase\n",
    "- Constructed an informative set of cell cycle marker genes, by excluding those genes whose variation was below the technical noise in the training dataset\n",
    "- Normalized the gene expression based on FPKM (Fragments Per Kilobase)\n",
    "- Alternative normalisation strategy: The data from each cell was normalised with the total number of reads mapped to the gene set used for prediction\n",
    "- __Training and test Data__: Single-cell RNA-seq dataset comprised of 182 mouse embryonic stem cells (mESCs) with known cell-cycle phase.\n",
    "- __Prediction Data__: Dataset without cell cycle information:Blastomeres,e Liver cells from a published study, T-Cells\n",
    "\n",
    "### Results\n",
    "![Result1](https://ars.els-cdn.com/content/image/1-s2.0-S1046202315300098-gr2.jpg)\n",
    "Validation on data with known cell-cycle phase. a–c, F1 scores from internal cross validation for different gene sets; F1 score for G1 phase is shown in green, for S-phase in orange and for G2M phase in blue. Red lines represent the macro-averaged F1 score. A, all variable genes, B, all annotated cell-cycle genes, C, all variable cell-cycle genes. D–F, F1 scores on independent test set. D, all variable genes, E, all annotated cell-cycle genes, F, all variable cell-cycle genes.\n",
    "\n",
    "### Findings\n",
    "- Poor generalizability to independent test data for many methods but PCA and pairs method\n",
    "- Alternative normalisation strategy results in poor generalizability\n",
    "- "
   ]
  },
  {
   "cell_type": "code",
   "execution_count": null,
   "metadata": {},
   "outputs": [],
   "source": []
  }
 ],
 "metadata": {
  "kernelspec": {
   "display_name": "Python 3",
   "language": "python",
   "name": "python3"
  },
  "language_info": {
   "codemirror_mode": {
    "name": "ipython",
    "version": 3
   },
   "file_extension": ".py",
   "mimetype": "text/x-python",
   "name": "python",
   "nbconvert_exporter": "python",
   "pygments_lexer": "ipython3",
   "version": "3.7.3"
  }
 },
 "nbformat": 4,
 "nbformat_minor": 2
}
